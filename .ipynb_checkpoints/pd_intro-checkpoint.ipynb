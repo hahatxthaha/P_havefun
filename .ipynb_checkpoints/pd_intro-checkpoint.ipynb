{
 "cells": [
  {
   "cell_type": "markdown",
   "metadata": {
    "pycharm": {
     "name": "#%% md\n"
    }
   },
   "source": [
    "# ✨ Here we go..."
   ]
  },
  {
   "cell_type": "markdown",
   "metadata": {
    "pycharm": {
     "name": "#%% md\n"
    }
   },
   "source": [
    "## ❑ 如何建立 DataFrame?\n",
    "\n",
    "1. 鍵盤輸入\n",
    "2. csv, excel, hd5, sqlite....."
   ]
  },
  {
   "cell_type": "code",
   "execution_count": null,
   "metadata": {
    "collapsed": false,
    "jupyter": {
     "outputs_hidden": false
    }
   },
   "outputs": [],
   "source": [
    "import os\n",
    "from os import path\n",
    "import pandas as pd\n",
    "from IPython.display import display\n",
    "\n",
    "data_dir = './data'"
   ]
  },
  {
   "cell_type": "code",
   "execution_count": null,
   "metadata": {},
   "outputs": [],
   "source": [
    "# os.path.isdir(data_dir)\n",
    "# os.path.join(data_dir, 'car_data.csv')"
   ]
  },
  {
   "cell_type": "code",
   "execution_count": null,
   "metadata": {},
   "outputs": [],
   "source": [
    "members = [\"Iron Man\", \"Captain America\", \"Hulk\", \"Thor\", \"Loki\"]\n",
    "scores = [100, 20, 90, 60, 60]\n",
    "years = [30, 31, 40, 25, 20]\n",
    "genders = [\"male\", \"male\", \"er..\", \"God?\", \"G....od.?\"]\n",
    "\n",
    "dict1 = {\n",
    "    \"members\": members,\n",
    "    \"scores\": scores, \n",
    "    \"years\": years,\n",
    "    \"genders\": genders\n",
    "}\n",
    "\n",
    "select_df = pd.DataFrame(dict1)\n",
    "# select_df = pd.DataFrame.from_dict(dict1, orient='columns')\n",
    "select_df = pd.DataFrame.from_dict(dict1, orient='index')\n",
    "select_df\n"
   ]
  },
  {
   "cell_type": "code",
   "execution_count": null,
   "metadata": {
    "collapsed": false,
    "jupyter": {
     "outputs_hidden": false
    }
   },
   "outputs": [],
   "source": [
    "people = {\n",
    "    'eid': ['A0001', 'A0003', 'A0030', 'A0070'],\n",
    "    'first': ['Tom', 'John', 'Jennie', 'Alex'],\n",
    "    'last': ['Lee', 'Huang', 'Zhang', 'Huang'],\n",
    "    'mail': ['tom.lee@mail.com', 'john.huang@mail.com', 'hennie.zhang@mail.cim', 'alex.huang@mail.com'],\n",
    "    'seniority': [7, 7, 3, 1]\n",
    "}\n",
    "\n",
    "df = pd.DataFrame(people)\n",
    "df"
   ]
  },
  {
   "cell_type": "markdown",
   "metadata": {},
   "source": [
    "### ▶ DataFrame 概要訊息"
   ]
  },
  {
   "cell_type": "code",
   "execution_count": null,
   "metadata": {
    "collapsed": false,
    "jupyter": {
     "outputs_hidden": false
    }
   },
   "outputs": [],
   "source": [
    "df.shape"
   ]
  },
  {
   "cell_type": "code",
   "execution_count": null,
   "metadata": {
    "collapsed": false,
    "jupyter": {
     "outputs_hidden": false
    }
   },
   "outputs": [],
   "source": [
    "df.tail(2)"
   ]
  },
  {
   "cell_type": "code",
   "execution_count": null,
   "metadata": {
    "collapsed": false,
    "jupyter": {
     "outputs_hidden": false
    }
   },
   "outputs": [],
   "source": [
    "df.info()"
   ]
  },
  {
   "cell_type": "code",
   "execution_count": null,
   "metadata": {
    "collapsed": false,
    "jupyter": {
     "outputs_hidden": false
    }
   },
   "outputs": [],
   "source": [
    "df.describe() # quartile"
   ]
  },
  {
   "cell_type": "code",
   "execution_count": null,
   "metadata": {
    "collapsed": false,
    "jupyter": {
     "outputs_hidden": false
    }
   },
   "outputs": [],
   "source": [
    "type(df), type(df['eid']) , type(df.iloc[0])"
   ]
  },
  {
   "cell_type": "markdown",
   "metadata": {},
   "source": [
    "### ▶ boolean 條件運算 & query"
   ]
  },
  {
   "cell_type": "code",
   "execution_count": null,
   "metadata": {
    "collapsed": false,
    "jupyter": {
     "outputs_hidden": false
    }
   },
   "outputs": [],
   "source": [
    "df.seniority <= 4"
   ]
  },
  {
   "cell_type": "code",
   "execution_count": null,
   "metadata": {
    "collapsed": false,
    "jupyter": {
     "outputs_hidden": false
    }
   },
   "outputs": [],
   "source": [
    "df[[False, False, True, True]]"
   ]
  },
  {
   "cell_type": "code",
   "execution_count": null,
   "metadata": {
    "collapsed": false,
    "jupyter": {
     "outputs_hidden": false
    }
   },
   "outputs": [],
   "source": [
    "sen_filter = df.seniority <=4\n",
    "df.loc[sen_filter]"
   ]
  },
  {
   "cell_type": "code",
   "execution_count": null,
   "metadata": {
    "collapsed": false,
    "jupyter": {
     "outputs_hidden": false
    },
    "pycharm": {
     "name": "#%%\n"
    }
   },
   "outputs": [],
   "source": [
    "df.query('seniority < =4')"
   ]
  },
  {
   "cell_type": "code",
   "execution_count": null,
   "metadata": {
    "collapsed": false,
    "jupyter": {
     "outputs_hidden": false
    }
   },
   "outputs": [],
   "source": [
    "df.query('seniority > 5')['mail']"
   ]
  },
  {
   "cell_type": "code",
   "execution_count": null,
   "metadata": {
    "collapsed": false,
    "jupyter": {
     "outputs_hidden": false
    }
   },
   "outputs": [],
   "source": [
    "df.iloc[0, 3]"
   ]
  },
  {
   "cell_type": "markdown",
   "metadata": {},
   "source": [
    "### ▶ 索引, loc and iloc"
   ]
  },
  {
   "cell_type": "code",
   "execution_count": null,
   "metadata": {
    "collapsed": false,
    "jupyter": {
     "outputs_hidden": false
    }
   },
   "outputs": [],
   "source": [
    "# df.set_index(['eid'])\n",
    "df.set_index(['eid'], inplace=True)"
   ]
  },
  {
   "cell_type": "code",
   "execution_count": null,
   "metadata": {
    "collapsed": false,
    "jupyter": {
     "outputs_hidden": false
    }
   },
   "outputs": [],
   "source": [
    "df.loc['A0030']['mail']"
   ]
  },
  {
   "cell_type": "code",
   "execution_count": null,
   "metadata": {
    "collapsed": false,
    "jupyter": {
     "outputs_hidden": false
    }
   },
   "outputs": [],
   "source": [
    "df.iloc[2, 2]"
   ]
  },
  {
   "cell_type": "markdown",
   "metadata": {},
   "source": [
    "## ❑ Load data from storage"
   ]
  },
  {
   "cell_type": "markdown",
   "metadata": {},
   "source": [
    "### cities.csv"
   ]
  },
  {
   "cell_type": "code",
   "execution_count": null,
   "metadata": {},
   "outputs": [],
   "source": [
    "from os import path\n",
    "import pandas as pd\n",
    "\n",
    "csv_source = 'cities.csv'\n",
    "data_dir = './data'\n",
    "\n",
    "cities = pd.read_csv(path.join(data_dir, csv_source))\n",
    "                 \n",
    "cities.head()"
   ]
  },
  {
   "cell_type": "code",
   "execution_count": null,
   "metadata": {},
   "outputs": [],
   "source": [
    "cities.info()"
   ]
  },
  {
   "cell_type": "code",
   "execution_count": null,
   "metadata": {},
   "outputs": [],
   "source": [
    "LonD_sorted = cities.sort_values(by=[' \"LonD\"'], ascending=False)\n",
    "LonD_sorted"
   ]
  },
  {
   "cell_type": "code",
   "execution_count": null,
   "metadata": {},
   "outputs": [],
   "source": [
    "LonD_sorted.to_csv(path.join(data_dir, 'data1.csv'), index=0, header=0 )\n",
    "LonD_sorted.to_csv(path.join(data_dir, 'data2.csv'), index=1, header=1 )\n",
    "LonD_sorted.to_csv(path.join(data_dir, 'data3.csv'), index=0, header=0 )\n",
    "LonD_sorted.to_csv(path.join(data_dir, 'data4.csv'), index=1, header=1 )"
   ]
  },
  {
   "cell_type": "code",
   "execution_count": null,
   "metadata": {},
   "outputs": [],
   "source": [
    "# cols = cities.columns.map(lambda x: x.strip())\n",
    "s = cities.columns[2]\n",
    "\n",
    "for c in s:\n",
    "    print(c)"
   ]
  },
  {
   "cell_type": "markdown",
   "metadata": {},
   "source": [
    "### a fake file"
   ]
  },
  {
   "cell_type": "code",
   "execution_count": null,
   "metadata": {},
   "outputs": [],
   "source": [
    "import pandas as pd\n",
    "import numpy as np\n",
    "\n",
    "dates = pd.date_range(\"20211001\", periods=6)\n",
    "df = pd.DataFrame(\n",
    "    np.random.randint(20, size=(6, 4)),\n",
    "    index = dates,\n",
    "    columns=list('TUVW'))\n",
    "\n",
    "df"
   ]
  },
  {
   "cell_type": "code",
   "execution_count": null,
   "metadata": {},
   "outputs": [],
   "source": [
    "df_copy = df.copy()\n",
    "df_copy['sum'] = df.sum(axis=1)\n",
    "df_copy['mean'] = df.mean(axis=1)\n",
    "df_copy['median'] = df.median(axis=1)\n",
    "df_copy['max'] = df.max(axis=1)\n",
    "df_copy['min'] = df.min(axis=1)\n",
    "df_copy"
   ]
  },
  {
   "cell_type": "code",
   "execution_count": null,
   "metadata": {},
   "outputs": [],
   "source": [
    "def sq(x):\n",
    "    return x*x\n",
    "\n",
    "sum_line = lambda x: sum(x)\n",
    "f = lambda x: x.max() - x.min()\n",
    "\n",
    "a = df.apply(f, axis=1)\n",
    "# df_copy['new_col2'] = df_copy['T'].apply(sq)\n",
    "a\n",
    "\n",
    "# df_copy"
   ]
  },
  {
   "cell_type": "markdown",
   "metadata": {},
   "source": [
    "### MovieLens"
   ]
  },
  {
   "cell_type": "markdown",
   "metadata": {},
   "source": [
    "MovieLens，學術界很有名的機器學習教育研究用的文件，内容看起來像這樣：\n",
    "\n",
    "```\n",
    "1|Toy Story (1995)|01-Jan-1995||http://us.imdb.com/M/title-exact?Toy%20Story%20(1995)|0|0|0|1|1|1|0|0|0|0|0|0|0|0|0|0|0|0|0\n",
    "2|GoldenEye (1995)|01-Jan-1995||http://us.imdb.com/M/title-exact?GoldenEye%20(1995)|0|1|1|0|0|0|0|0|0|0|0|0|0|0|0|0|1|0|0\n",
    "\n",
    "```\n",
    "\n",
    "没有 header, 欄位間的分隔字符也和 car_data.csv 不同"
   ]
  },
  {
   "cell_type": "code",
   "execution_count": null,
   "metadata": {
    "collapsed": false,
    "jupyter": {
     "outputs_hidden": false
    }
   },
   "outputs": [],
   "source": [
    "item_source = os.path.join(data_dir, 'u.item')\n",
    "item_columns = ['movie_id', 'title']\n",
    "item_df = pd.read_csv(item_source, sep='|', header=None, names=item_columns, usecols=[0, 1])\n",
    "item_df"
   ]
  },
  {
   "cell_type": "markdown",
   "metadata": {},
   "source": [
    "- 把 DataFrame 内容寫進一個新的 csv 文件，使用 [to_csv](https://pandas.pydata.org/pandas-docs/stable/reference/api/pandas.DataFrame.to_csv.html) ："
   ]
  },
  {
   "cell_type": "code",
   "execution_count": null,
   "metadata": {
    "collapsed": false,
    "jupyter": {
     "outputs_hidden": false
    }
   },
   "outputs": [],
   "source": [
    "item_df.to_csv(os.path.join(data_dir, 'movie_name.csv'), index=False)"
   ]
  },
  {
   "cell_type": "markdown",
   "metadata": {},
   "source": [
    "## ❑ What about Excel files?"
   ]
  },
  {
   "cell_type": "markdown",
   "metadata": {},
   "source": [
    "- [What’s new in Pandas 1.2.0](https://pandas.pydata.org/docs/whatsnew/v1.2.0.html) Pandas 從 1.2.0 版開始，宣布正式放棄支持 xlwt & xlrd 兩個套件, <b>只使用 openpyxl</b> 讀取和寫入微軟的 xls 與 xlsx 格式檔案\n",
    "- [to_excel](https://pandas.pydata.org/docs/reference/api/pandas.DataFrame.to_excel.html?highlight=to_excel#pandas.DataFrame.to_excel) "
   ]
  },
  {
   "cell_type": "code",
   "execution_count": null,
   "metadata": {
    "collapsed": false,
    "jupyter": {
     "outputs_hidden": false
    }
   },
   "outputs": [],
   "source": [
    "%%time\n",
    "xlsx_source = os.path.join(data_dir, 'superstore_sales.xlsx')\n",
    "df = pd.read_excel(xlsx_source, sheet_name='Orders', engine='openpyxl')\n",
    "df.tail(5)"
   ]
  },
  {
   "cell_type": "code",
   "execution_count": null,
   "metadata": {
    "collapsed": false,
    "jupyter": {
     "outputs_hidden": false
    }
   },
   "outputs": [],
   "source": [
    "df.to_excel(os.path.join(data_dir, 'write_to_excel.xlsx'), \n",
    "    sheet_name ='1012 Test',\n",
    "    engine='openpyxl')"
   ]
  },
  {
   "cell_type": "markdown",
   "metadata": {},
   "source": [
    "舊版 excel 格式，大家可以自己试试看"
   ]
  },
  {
   "cell_type": "code",
   "execution_count": null,
   "metadata": {},
   "outputs": [],
   "source": [
    "xls_source = os.path.join(data_dir, 'CTG.xls')\n",
    "df = pd.read_excel(xls_source, sheet_name='Raw Data')\n",
    "df.dropna(inplace=True)\n",
    "df.head()"
   ]
  },
  {
   "cell_type": "code",
   "execution_count": null,
   "metadata": {},
   "outputs": [],
   "source": [
    "df.to_excel(os.path.join(data_dir, 'CTG_to_excel.xls'),\n",
    "    sheet_name ='Second Test ',\n",
    "    engine='openpyxl')"
   ]
  },
  {
   "cell_type": "markdown",
   "metadata": {},
   "source": [
    "# ✨ 載入數據之後"
   ]
  },
  {
   "cell_type": "code",
   "execution_count": null,
   "metadata": {
    "collapsed": false,
    "jupyter": {
     "outputs_hidden": false
    }
   },
   "outputs": [],
   "source": [
    "import os\n",
    "import pandas as pd\n",
    "import numpy as np\n",
    "import matplotlib.pyplot as plt\n",
    "import seaborn as sns\n",
    "\n",
    "data_dir = './data'"
   ]
  },
  {
   "cell_type": "markdown",
   "metadata": {},
   "source": [
    "## ❑ 了解數據組成和定義"
   ]
  },
  {
   "cell_type": "markdown",
   "metadata": {},
   "source": [
    "- 調查欄位定義和欄位間關聯與脈絡 （df.shape, [df.info()](https://pandas.pydata.org/pandas-docs/stable/reference/api/pandas.DataFrame.info.html), df.describe()）\n",
    "- 欄位數值的分布狀況（df.hist(), [df.plot](https://pandas.pydata.org/pandas-docs/stable/reference/api/pandas.DataFrame.plot.html?highlight=plot#pandas.DataFrame.plot).(), seaborn.xxxplot()...）\n",
    "- 缺失值要補全還是要刪除 ([df.isnull()](https://pandas.pydata.org/pandas-docs/stable/reference/api/pandas.DataFrame.isnull.html?highlight=isnull#pandas.DataFrame.isnull))\n",
    "- 是否需要轉換（[df.astype()](https://pandas.pydata.org/pandas-docs/stable/reference/api/pandas.DataFrame.astype.html?highlight=astype#pandas.DataFrame.astype), pd.to_xxxx(), \n",
    "- 數據整理（wrangling）& 重塑（reshaping）- 從各個角度發掘原始數據提供的資訊\n",
    "- 欄位間的關聯（corr, heatmap, scattermatrix, pairplot）\n",
    "- 日期時間相關信息要特别處理（pd.to_datetime(), [pd.date_range()](https://pandas.pydata.org/pandas-docs/stable/reference/api/pandas.date_range.html?highlight=date_range#pandas.date_range), pd.DatetimeIndex, df.var.dt.year...）\n",
    "- 繪製統計圖表 - 一圖解千言\n",
    "- 是否需要從现有數據中推導出新的變數"
   ]
  },
  {
   "cell_type": "markdown",
   "metadata": {},
   "source": [
    "最常用的讀入資料方式是 Pandas IO 系列的 pd.read_xxx(), 指定檔案路徑的常見做法有兩種，簡易示例如下：\n",
    "\n",
    "```\n",
    "# method 1\n",
    "\n",
    "import os\n",
    "data_dir = './data'\n",
    "data_name = os.path.join(data_dir, 'data.csv')\n",
    "df = pd.read_csv(data_name)\n",
    "\n",
    "# method 2\n",
    "\n",
    "data_name = './data/data.csv'\n",
    "df = pd.read_csv(data_name)\n",
    "```"
   ]
  },
  {
   "cell_type": "markdown",
   "metadata": {
    "pycharm": {
     "name": "#%% md\n"
    }
   },
   "source": [
    "# ❍ End of File ❍\n",
    "\n"
   ]
  }
 ],
 "metadata": {
  "kernelspec": {
   "display_name": "Python 3 (ipykernel)",
   "language": "python",
   "name": "python3"
  },
  "language_info": {
   "codemirror_mode": {
    "name": "ipython",
    "version": 3
   },
   "file_extension": ".py",
   "mimetype": "text/x-python",
   "name": "python",
   "nbconvert_exporter": "python",
   "pygments_lexer": "ipython3",
   "version": "3.8.12"
  }
 },
 "nbformat": 4,
 "nbformat_minor": 4
}
