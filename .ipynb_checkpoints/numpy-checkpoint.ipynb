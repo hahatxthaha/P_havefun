{
 "cells": [
  {
   "cell_type": "markdown",
   "metadata": {
    "id": "6npxmJIh8TH4"
   },
   "source": [
    "# Why Numpy\n",
    "\n"
   ]
  },
  {
   "cell_type": "code",
   "execution_count": null,
   "metadata": {
    "id": "IZHyVIBm2EoJ"
   },
   "outputs": [],
   "source": [
    "import numpy as np\n",
    "import sys\n",
    "from time import time"
   ]
  },
  {
   "cell_type": "code",
   "execution_count": null,
   "metadata": {
    "id": "EcMLLnOf2J0N"
   },
   "outputs": [],
   "source": [
    "loop_count = int(1e5)\n",
    "lst = list(range(loop_count))\n",
    "arr = np.arange(loop_count)"
   ]
  },
  {
   "cell_type": "code",
   "execution_count": null,
   "metadata": {
    "colab": {
     "base_uri": "https://localhost:8080/"
    },
    "id": "NecWKiCn3DaE",
    "outputId": "f0803fb6-3f25-4cbf-904e-8d4981b92b07"
   },
   "outputs": [],
   "source": [
    "lst[:10]"
   ]
  },
  {
   "cell_type": "code",
   "execution_count": null,
   "metadata": {
    "colab": {
     "base_uri": "https://localhost:8080/"
    },
    "id": "3F0SxBA_3Fi1",
    "outputId": "b58a7d4b-a6a5-4cc9-9958-dcb5036ef214"
   },
   "outputs": [],
   "source": [
    "arr[:10]"
   ]
  },
  {
   "cell_type": "code",
   "execution_count": null,
   "metadata": {
    "colab": {
     "base_uri": "https://localhost:8080/"
    },
    "id": "nsXxXmn82NQp",
    "outputId": "ce90be75-6fb6-4cab-82b3-5d96b25c1f1c"
   },
   "outputs": [],
   "source": [
    "type(arr)"
   ]
  },
  {
   "cell_type": "code",
   "execution_count": null,
   "metadata": {
    "colab": {
     "base_uri": "https://localhost:8080/"
    },
    "id": "cW6apkr02Ms2",
    "outputId": "984de2af-a7d7-49a0-a36c-6a05f5f9195f"
   },
   "outputs": [],
   "source": [
    "arr.shape"
   ]
  },
  {
   "cell_type": "code",
   "execution_count": null,
   "metadata": {
    "id": "JfWcDAp12rMd"
   },
   "outputs": [],
   "source": [
    "def py_ver(array_like, cnt):\n",
    "    for i in range(cnt):\n",
    "        array_like[i] += i\n",
    "\n",
    "def numpy_ver(array_like, cnt):\n",
    "    array_like += 1"
   ]
  },
  {
   "cell_type": "code",
   "execution_count": null,
   "metadata": {
    "colab": {
     "base_uri": "https://localhost:8080/"
    },
    "id": "mZoFw1X53PUc",
    "outputId": "c70d12c7-f95f-43a4-816b-455f107b9a0f"
   },
   "outputs": [],
   "source": [
    "loop_count = int(1e6)\n",
    "lst = list(range(loop_count))\n",
    "arr = np.arange(loop_count)\n",
    "\n",
    "%timeit -n 3 py_ver(lst, loop_count) \n",
    "\n",
    "%timeit -n 3 numpy_ver(arr, loop_count)"
   ]
  },
  {
   "cell_type": "markdown",
   "metadata": {
    "id": "kKCvNuLv64_B"
   },
   "source": [
    "1 ms = 1000 µs"
   ]
  },
  {
   "cell_type": "code",
   "execution_count": null,
   "metadata": {
    "colab": {
     "base_uri": "https://localhost:8080/"
    },
    "id": "2_dVGyma35Xx",
    "outputId": "1006e1c1-898b-4e9d-8282-2318b6e4e9fd"
   },
   "outputs": [],
   "source": [
    "%prun py_ver(lst, 10000)"
   ]
  },
  {
   "cell_type": "code",
   "execution_count": null,
   "metadata": {
    "colab": {
     "base_uri": "https://localhost:8080/"
    },
    "id": "3kwJkcBE4lpX",
    "outputId": "023f52c0-8d3e-40bf-f90b-59514f5c19f2"
   },
   "outputs": [],
   "source": [
    "print(sys.getsizeof(1) * len(lst))\n",
    "print(arr.itemsize * arr.size)\n",
    "print(sys.getsizeof(arr))"
   ]
  },
  {
   "cell_type": "markdown",
   "metadata": {
    "id": "5O15wsZmGO92"
   },
   "source": [
    "# Image Tasks"
   ]
  },
  {
   "cell_type": "markdown",
   "metadata": {
    "id": "dxamja2AFp5N"
   },
   "source": [
    "- [CC search](https://search.creativecommons.org/)\n",
    "- [Google 搜尋說明：尋找可以使用及分享的圖片](https://support.google.com/websearch/answer/29508?hl=zh-Hant)\n",
    "- [[設計]創用 CC 授權圖片搜尋引擎@線上查詢照片版權‧CC0下載商業用途最安全](https://funtory.tw/search-cc/)\n",
    "- [Chihuahua](https://search.creativecommons.org/photos/183ce3dc-0838-4292-9ace-35ca68b3b5d6)\n"
   ]
  },
  {
   "cell_type": "markdown",
   "metadata": {
    "id": "aPjG36EuNw3O"
   },
   "source": [
    "## Load"
   ]
  },
  {
   "cell_type": "markdown",
   "metadata": {},
   "source": [
    "用 [Creative Commons Search](https://search.creativecommons.org/)  找幾個圖片檔案試試，關鍵字可以用 Chihuahua, softness, lego 等等。 "
   ]
  },
  {
   "cell_type": "code",
   "execution_count": null,
   "metadata": {
    "id": "GC-UQjRWFuZk"
   },
   "outputs": [],
   "source": [
    "# ![](https://live.staticflickr.com/2653/3727916698_f2dac757af_b.jpg)"
   ]
  },
  {
   "cell_type": "code",
   "execution_count": null,
   "metadata": {},
   "outputs": [],
   "source": [
    "from os import path\n",
    "\n",
    "data_dir = './data/'\n",
    "chihuahua = path.join(data_dir, 'Chihuahua.jpeg')\n",
    "softness = path.join(data_dir, 'softness.jpeg')\n",
    "flower = path.join(data_dir, 'flower.jpeg')\n",
    "cat = path.join(data_dir, 'cat.jpeg')"
   ]
  },
  {
   "cell_type": "code",
   "execution_count": null,
   "metadata": {},
   "outputs": [],
   "source": [
    "path.exists(chihuahua)"
   ]
  },
  {
   "cell_type": "code",
   "execution_count": null,
   "metadata": {
    "colab": {
     "base_uri": "https://localhost:8080/",
     "height": 269
    },
    "id": "_mcAZHQLG6vn",
    "outputId": "5a01ceee-e065-4a8a-d913-1db98e43b06d"
   },
   "outputs": [],
   "source": [
    "import cv2\n",
    "import matplotlib.pyplot as plt\n",
    "\n",
    "img = cv2.imread(chihuahua)\n",
    "plt.imshow(img)\n",
    "plt.show()"
   ]
  },
  {
   "cell_type": "code",
   "execution_count": null,
   "metadata": {
    "colab": {
     "base_uri": "https://localhost:8080/",
     "height": 269
    },
    "id": "4GxuhddjHUv-",
    "outputId": "7336edb7-5901-4548-983c-1a8665d4795f"
   },
   "outputs": [],
   "source": [
    "plt.imshow(img[:, :, ::-1]) # OpenCV is BGR, Pillow is RGB\n",
    "plt.show()"
   ]
  },
  {
   "cell_type": "code",
   "execution_count": null,
   "metadata": {
    "colab": {
     "base_uri": "https://localhost:8080/"
    },
    "id": "AVm2lpxxHcoQ",
    "outputId": "a79638cd-8a90-4583-e034-193e687be29f"
   },
   "outputs": [],
   "source": [
    "type(img)"
   ]
  },
  {
   "cell_type": "code",
   "execution_count": null,
   "metadata": {
    "colab": {
     "base_uri": "https://localhost:8080/"
    },
    "id": "5Nvywu8QHewc",
    "outputId": "996d043b-dff9-4f50-c62b-646afdaf0c4a"
   },
   "outputs": [],
   "source": [
    "img.shape # --> height, width, channel"
   ]
  },
  {
   "cell_type": "code",
   "execution_count": null,
   "metadata": {
    "colab": {
     "base_uri": "https://localhost:8080/"
    },
    "id": "5njYwMfQIDgF",
    "outputId": "bb920068-0f92-478a-df83-394117a24430"
   },
   "outputs": [],
   "source": [
    "width = np.size(img, 0)\n",
    "height = np.size(img, 1)\n",
    "channel = np.size(img, 2)\n",
    "\n",
    "width, height, channel"
   ]
  },
  {
   "cell_type": "code",
   "execution_count": null,
   "metadata": {},
   "outputs": [],
   "source": [
    "img = cv2.imread(chihuahua)\n",
    "\n",
    "plt.hist(img.ravel(), bins=256, facecolor='navy', density=1, alpha=0.75)\n",
    "plt.show()"
   ]
  },
  {
   "cell_type": "markdown",
   "metadata": {
    "id": "48ZCMCYGN07V"
   },
   "source": [
    "## Gray Scale\n",
    "\n",
    "\n",
    "- [Image Processing 101 Chapter 1.3: Color Space Conversion](https://www.dynamsoft.com/blog/insights/image-processing/image-processing-101-color-space-conversion/)\n",
    "- [Grayscale to RGB Conversion](https://www.tutorialspoint.com/dip/grayscale_to_rgb_conversion.htm)"
   ]
  },
  {
   "cell_type": "code",
   "execution_count": null,
   "metadata": {
    "colab": {
     "base_uri": "https://localhost:8080/",
     "height": 293
    },
    "id": "xy2icblaI95R",
    "outputId": "c9e8de0a-0e36-4839-cff8-d764772d4c99"
   },
   "outputs": [],
   "source": [
    "gray_image = img[:, :, 0] * 0.114 + img[:, :, 1] * 0.587 + img[:, :, 2] * 0.299\n",
    "plt.imshow(gray_image, cmap='gray')"
   ]
  },
  {
   "cell_type": "code",
   "execution_count": null,
   "metadata": {
    "colab": {
     "base_uri": "https://localhost:8080/"
    },
    "id": "tiPuR5mZKDyW",
    "outputId": "3de6c1c1-7412-402f-ba29-c4011039abd9"
   },
   "outputs": [],
   "source": [
    "gray_image.shape"
   ]
  },
  {
   "cell_type": "markdown",
   "metadata": {
    "id": "HLRlec4EN8Cu"
   },
   "source": [
    "## Horizontal flip"
   ]
  },
  {
   "cell_type": "code",
   "execution_count": null,
   "metadata": {
    "colab": {
     "base_uri": "https://localhost:8080/",
     "height": 293
    },
    "id": "ZR0cEy5JJiC9",
    "outputId": "b83618ae-f767-4e9e-d40b-4369a4f4f309"
   },
   "outputs": [],
   "source": [
    "plt.imshow(gray_image[:, ::-1], cmap='gray')"
   ]
  },
  {
   "cell_type": "markdown",
   "metadata": {
    "id": "s3fHxeGYN_s7"
   },
   "source": [
    "## Contrast Enhancement\n",
    "\n",
    "- [【OpenCV】8 – 運用 OpenCV 改變圖片的對比度 modify contrast (內含：網路上常見錯誤調整對比度方式的分析)](https://www.wongwonggoods.com/python/python_opencv/opencv-modify-contrast/)"
   ]
  },
  {
   "cell_type": "code",
   "execution_count": null,
   "metadata": {
    "colab": {
     "base_uri": "https://localhost:8080/",
     "height": 293
    },
    "id": "hb_GFRYTNW6K",
    "outputId": "d7be924d-b5b1-48f1-fc4f-9bc47ba362a3"
   },
   "outputs": [],
   "source": [
    "img = cv2.imread(cat, cv2.IMREAD_GRAYSCALE)\n",
    "plt.imshow(img, cmap='gray')"
   ]
  },
  {
   "cell_type": "code",
   "execution_count": null,
   "metadata": {},
   "outputs": [],
   "source": [
    "plt.hist(img.ravel(), bins=256, density=1, facecolor='black', alpha=0.75)\n",
    "plt.show()"
   ]
  },
  {
   "cell_type": "code",
   "execution_count": null,
   "metadata": {},
   "outputs": [],
   "source": [
    "import numpy as np\n",
    "from collections import Counter\n",
    "\n",
    "hist = sorted(Counter(img.ravel()).items())\n",
    "\n",
    "plt.plot(\n",
    "    [x[0] for x in hist], [x[1] for x in hist], c='navy'\n",
    ")"
   ]
  },
  {
   "cell_type": "code",
   "execution_count": null,
   "metadata": {
    "colab": {
     "base_uri": "https://localhost:8080/",
     "height": 293
    },
    "id": "BzSkDzhsJ3uo",
    "outputId": "a071b85b-a720-4fd3-fb84-0537e7ffbec8"
   },
   "outputs": [],
   "source": [
    "pixel_values, count = np.unique(img, return_counts=True)\n",
    "cum_count = np.cumsum(count)\n",
    "\n",
    "new_image = np.zeros(img.shape)\n",
    "\n",
    "for i, pixel_value in enumerate(pixel_values):\n",
    "    new_image[img == pixel_value] = \\\n",
    "        ((cum_count[i] - cum_count[0]) / (cum_count[-1] - cum_count[0])) * 255\n",
    "plt.imshow(new_image, cmap='gray')"
   ]
  },
  {
   "cell_type": "code",
   "execution_count": null,
   "metadata": {},
   "outputs": [],
   "source": [
    "_, ax = plt.subplots(1, 2, figsize=(12, 4), dpi=120)\n",
    "\n",
    "ax[0].imshow(img, cmap='gray')\n",
    "ax[1].imshow(new_image, cmap='gray')\n",
    "plt.show()"
   ]
  },
  {
   "cell_type": "code",
   "execution_count": null,
   "metadata": {},
   "outputs": [],
   "source": [
    "import numpy as np\n",
    "from collections import Counter\n",
    "\n",
    "hist = sorted(Counter(new_image.ravel()).items())\n",
    "\n",
    "plt.plot(\n",
    "    [x[0] for x in hist], [x[1] for x in hist], c='k'\n",
    ")"
   ]
  },
  {
   "cell_type": "code",
   "execution_count": null,
   "metadata": {},
   "outputs": [],
   "source": [
    "import numpy as np\n",
    "from collections import Counter\n",
    "import matplotlib.pyplot as plt\n",
    "\n",
    "_, ax = plt.subplots(1, 2, dpi=120, figsize=(12, 4))\n",
    "\n",
    "hist = sorted(Counter(img.ravel()).items())\n",
    "\n",
    "hist_enhanced = sorted(Counter(new_image.ravel()).items())\n",
    "\n",
    "ax[0].plot(\n",
    "    [x[0] for x in hist], [x[1] for x in hist], c='k'\n",
    ")\n",
    "\n",
    "ax[1].plot(\n",
    "    [x[0] for x in hist_enhanced], \n",
    "    [x[1] for x in hist_enhanced], c='r'\n",
    ")"
   ]
  }
 ],
 "metadata": {
  "colab": {
   "collapsed_sections": [],
   "name": "numpy.ipynb",
   "provenance": [],
   "toc_visible": true
  },
  "kernelspec": {
   "display_name": "Python 3 (ipykernel)",
   "language": "python",
   "name": "python3"
  },
  "language_info": {
   "codemirror_mode": {
    "name": "ipython",
    "version": 3
   },
   "file_extension": ".py",
   "mimetype": "text/x-python",
   "name": "python",
   "nbconvert_exporter": "python",
   "pygments_lexer": "ipython3",
   "version": "3.8.12"
  }
 },
 "nbformat": 4,
 "nbformat_minor": 4
}
