{
 "cells": [
  {
   "cell_type": "markdown",
   "id": "6d295975-e5d0-4f4d-b96a-924b43cd9fa1",
   "metadata": {},
   "source": [
    "# Dataset overview"
   ]
  },
  {
   "cell_type": "code",
   "execution_count": null,
   "id": "79d65131-dd48-44fd-b818-282f3e08eda3",
   "metadata": {},
   "outputs": [],
   "source": [
    "import pandas as pd\n",
    "from os import path\n",
    "import plotly.graph_objs as go\n",
    "import plotly.express as px\n",
    "import matplotlib.pyplot as plt\n",
    "import seaborn as sns\n",
    "\n",
    "data_dir = './data/'\n",
    "lite_csv = 'kaggle_2020_lite.csv'\n",
    "source = path.join(data_dir, lite_csv)\n",
    "\n",
    "# path.exists(source)\n",
    "\n",
    "df = pd.read_csv(source) \n",
    "df.head()"
   ]
  },
  {
   "cell_type": "code",
   "execution_count": null,
   "id": "d5ea8d9f-f68b-4164-a8a5-6f019c4e2a32",
   "metadata": {},
   "outputs": [],
   "source": [
    "pd.crosstab(df['Q1'], df['Q2'])"
   ]
  },
  {
   "cell_type": "code",
   "execution_count": null,
   "id": "b450dd5f-456d-4e4a-b407-8a39ead13ea4",
   "metadata": {},
   "outputs": [],
   "source": [
    "pd.crosstab(df['Q5'], df['Q1'])"
   ]
  },
  {
   "cell_type": "markdown",
   "id": "c6dc2985-2dc6-485f-9b45-380059a4493f",
   "metadata": {},
   "source": [
    "# seaborn.countplot"
   ]
  },
  {
   "cell_type": "code",
   "execution_count": null,
   "id": "59cf7ba9-49bf-4762-9109-85b5932b19a0",
   "metadata": {},
   "outputs": [],
   "source": [
    "fig = plt.subplots(1, 1, figsize=(8, 5), dpi=120)\n",
    "\n",
    "sns.countplot(data=df, x='Q1', \n",
    "              # order = df['Q1'].value_counts().sort_index().index, \n",
    "              palette='coolwarm')"
   ]
  },
  {
   "cell_type": "code",
   "execution_count": null,
   "id": "7cf0bdba-71af-4252-8b2b-b1b81b1b2bab",
   "metadata": {},
   "outputs": [],
   "source": [
    "_, ax = plt.subplots(1, 1, figsize=(8, 4), dpi=120)\n",
    "\n",
    "sns.countplot(data=df[df['Q1'] == '25-29'], y ='Q4', palette='rainbow')\n",
    "\n",
    "# fig = plt.figure(figsize=(9, 7), dpi=120)\n",
    "_, ax = plt.subplots(figsize=(9, 6), dpi=120)\n",
    "pd.crosstab(df['Q1'], df['Q2']).plot(kind='bar', stacked=True, rot=0, ax=ax)\n",
    "\n",
    "fig = plt.subplots(1, 1, figsize=(8, 4), dpi=120)\n",
    "\n",
    "sns.countplot(data=df[df['Q1'] == '25-29'], y ='Q2', palette='rainbow')"
   ]
  },
  {
   "cell_type": "markdown",
   "id": "92d3662b-3428-4f7a-9202-8cb0d52e1108",
   "metadata": {},
   "source": [
    "# plotly"
   ]
  },
  {
   "cell_type": "code",
   "execution_count": null,
   "id": "4b3b422a-b253-4640-8eb4-e4d815a001d6",
   "metadata": {},
   "outputs": [],
   "source": [
    "fig = px.bar(df, x='Q1', color='Q2', \n",
    "             color_discrete_sequence=px.colors.qualitative.Dark24_r)\n",
    "\n",
    "fig.update_layout(width=1080, height=820, barmode='stack', template='plotly_white', font_size=18)"
   ]
  },
  {
   "cell_type": "code",
   "execution_count": null,
   "id": "96ae172a-7125-46fd-b1da-633687313224",
   "metadata": {},
   "outputs": [],
   "source": [
    "fig = px.bar(df, x='Q2', color='Q1', \n",
    "             color_discrete_sequence=px.colors.qualitative.Vivid_r)\n",
    "\n",
    "fig.update_layout(width=1080, height=820, barmode='stack', template='plotly_white', font_size=18)"
   ]
  },
  {
   "cell_type": "code",
   "execution_count": null,
   "id": "a8860bce-6678-4db9-b6e1-9e3be82014f1",
   "metadata": {},
   "outputs": [],
   "source": [
    "fig = px.bar(df[df['Q1'] == '25-29'], y='Q4', \n",
    "             color_discrete_sequence=px.colors.qualitative.Vivid)\n",
    "\n",
    "fig.update_layout(width=1080, height=520, template='plotly_white', font_size=18)"
   ]
  },
  {
   "cell_type": "code",
   "execution_count": null,
   "id": "fdc5b5ca-41fd-4580-9079-ce7f6b0e3fe7",
   "metadata": {},
   "outputs": [],
   "source": [
    "fig = go.Figure()\n",
    "\n",
    "counts = df['Q1'].value_counts().sort_index()\n",
    "            \n",
    "fig.add_trace(\n",
    "    go.Bar(x=counts.index, y=counts.values, marker_color=px.colors.qualitative.Dark24)\n",
    ")\n",
    "fig.update_layout(width=960, height=520, template='plotly_white', font_size=18)"
   ]
  }
 ],
 "metadata": {
  "kernelspec": {
   "display_name": "Python 3 (ipykernel)",
   "language": "python",
   "name": "python3"
  },
  "language_info": {
   "codemirror_mode": {
    "name": "ipython",
    "version": 3
   },
   "file_extension": ".py",
   "mimetype": "text/x-python",
   "name": "python",
   "nbconvert_exporter": "python",
   "pygments_lexer": "ipython3",
   "version": "3.8.12"
  }
 },
 "nbformat": 4,
 "nbformat_minor": 5
}
