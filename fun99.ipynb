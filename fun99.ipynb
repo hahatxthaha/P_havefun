{
 "cells": [
  {
   "cell_type": "markdown",
   "id": "4cf5e916-611b-4a3a-b890-31b8c1d9eff2",
   "metadata": {},
   "source": [
    "```\n",
    " 1   2   3   4   5   6   7   8   9\n",
    " 2   4   6   8  10  12  14  16  18\n",
    " 3   6   9  12  15  18  21  24  27\n",
    " 4   8  12  16  20  24  28  32  36\n",
    " 5  10  15  20  25  30  35  40  45\n",
    " 6  12  18  24  30  36  42  48  54\n",
    " 7  14  21  28  35  42  49  56  63\n",
    " 8  16  24  32  40  48  56  64  72\n",
    " 9  18  27  36  45  54  63  72  81\n",
    "```\n",
    "-----\n",
    "```\n",
    "  1 |   2 |   3 |   4 |   5 |   6 |   7 |   8 |   9\n",
    "  2 |   4 |   6 |   8 |  10 |  12 |  14 |  16 |  18\n",
    "  3 |   6 |   9 |  12 |  15 |  18 |  21 |  24 |  27\n",
    "  4 |   8 |  12 |  16 |  20 |  24 |  28 |  32 |  36\n",
    "  5 |  10 |  15 |  20 |  25 |  30 |  35 |  40 |  45\n",
    "  6 |  12 |  18 |  24 |  30 |  36 |  42 |  48 |  54\n",
    "  7 |  14 |  21 |  28 |  35 |  42 |  49 |  56 |  63\n",
    "  8 |  16 |  24 |  32 |  40 |  48 |  56 |  64 |  72\n",
    "  9 |  18 |  27 |  36 |  45 |  54 |  63 |  72 |  81\n",
    "```"
   ]
  },
  {
   "cell_type": "markdown",
   "id": "b84d7975-8db6-46e9-8fb3-a6985bccb73b",
   "metadata": {},
   "source": [
    "- [Python Nested List](https://www.learnbyexample.org/python-nested-list/)\n",
    "- [Python String join() Method](https://www.w3schools.com/python/ref_string_join.asp)\n",
    "- [f-String](https://realpython.com/python-f-strings/)"
   ]
  },
  {
   "cell_type": "raw",
   "id": "bd97f3a0-36e4-4403-84de-5849691fba93",
   "metadata": {},
   "source": [
    "[[1, 2, 3, 4, 5, 6, 7, 8, 9],\n",
    " [2, 4, 6, 8, 10, 12, 14, 16, 18],\n",
    " [3, 6, 9, 12, 15, 18, 21, 24, 27],\n",
    " [4, 8, 12, 16, 20, 24, 28, 32, 36],\n",
    " [5, 10, 15, 20, 25, 30, 35, 40, 45],\n",
    " [6, 12, 18, 24, 30, 36, 42, 48, 54],\n",
    " [7, 14, 21, 28, 35, 42, 49, 56, 63],\n",
    " [8, 16, 24, 32, 40, 48, 56, 64, 72],\n",
    " [9, 18, 27, 36, 45, 54, 63, 72, 81]]"
   ]
  },
  {
   "cell_type": "code",
   "execution_count": 5,
   "id": "2e352e3e-7b47-40e0-bd94-24e712b78ce7",
   "metadata": {},
   "outputs": [
    {
     "data": {
      "text/plain": [
       "[[1, 2, 3, 4, 5, 6, 7, 8, 9],\n",
       " [2, 4, 6, 8, 10, 12, 14, 16, 18],\n",
       " [3, 6, 9, 12, 15, 18, 21, 24, 27],\n",
       " [4, 8, 12, 16, 20, 24, 28, 32, 36],\n",
       " [5, 10, 15, 20, 25, 30, 35, 40, 45],\n",
       " [6, 12, 18, 24, 30, 36, 42, 48, 54],\n",
       " [7, 14, 21, 28, 35, 42, 49, 56, 63],\n",
       " [8, 16, 24, 32, 40, 48, 56, 64, 72],\n",
       " [9, 18, 27, 36, 45, 54, 63, 72, 81]]"
      ]
     },
     "execution_count": 5,
     "metadata": {},
     "output_type": "execute_result"
    }
   ],
   "source": [
    "outer = []\n",
    "for i in range(1, 10):\n",
    "    row = []\n",
    "    for j in range(1, 10):\n",
    "        row.append(i*j)\n",
    "    outer.append(row)\n",
    "\n",
    "outer"
   ]
  },
  {
   "cell_type": "code",
   "execution_count": 6,
   "id": "63027351-8728-4b5e-ab84-4dddd8a6a2d6",
   "metadata": {},
   "outputs": [
    {
     "data": {
      "text/plain": [
       "[[1, 2, 3, 4, 5, 6, 7, 8, 9],\n",
       " [2, 4, 6, 8, 10, 12, 14, 16, 18],\n",
       " [3, 6, 9, 12, 15, 18, 21, 24, 27],\n",
       " [4, 8, 12, 16, 20, 24, 28, 32, 36],\n",
       " [5, 10, 15, 20, 25, 30, 35, 40, 45],\n",
       " [6, 12, 18, 24, 30, 36, 42, 48, 54],\n",
       " [7, 14, 21, 28, 35, 42, 49, 56, 63],\n",
       " [8, 16, 24, 32, 40, 48, 56, 64, 72],\n",
       " [9, 18, 27, 36, 45, 54, 63, 72, 81]]"
      ]
     },
     "execution_count": 6,
     "metadata": {},
     "output_type": "execute_result"
    }
   ],
   "source": [
    "[[i*j for j in range(1, 10)] for i in range(1, 10)]"
   ]
  },
  {
   "cell_type": "code",
   "execution_count": 22,
   "id": "f21b1ce7-b335-4a13-b1da-0a145592f6cc",
   "metadata": {},
   "outputs": [
    {
     "name": "stdout",
     "output_type": "stream",
     "text": [
      " 1 |  2 |  3 |  4 |  5 |  6 |  7 |  8 |  9\n",
      " 2 |  4 |  6 |  8 | 10 | 12 | 14 | 16 | 18\n",
      " 3 |  6 |  9 | 12 | 15 | 18 | 21 | 24 | 27\n",
      " 4 |  8 | 12 | 16 | 20 | 24 | 28 | 32 | 36\n",
      " 5 | 10 | 15 | 20 | 25 | 30 | 35 | 40 | 45\n",
      " 6 | 12 | 18 | 24 | 30 | 36 | 42 | 48 | 54\n",
      " 7 | 14 | 21 | 28 | 35 | 42 | 49 | 56 | 63\n",
      " 8 | 16 | 24 | 32 | 40 | 48 | 56 | 64 | 72\n",
      " 9 | 18 | 27 | 36 | 45 | 54 | 63 | 72 | 81\n"
     ]
    }
   ],
   "source": [
    "outer = [[f'{i*j:2d}' for j in range(1, 10)] for i in range(1, 10)]\n",
    "\n",
    "v1 = [' | '.join(each_row) for each_row in outer]\n",
    "\n",
    "for each_line in v1:\n",
    "    print(each_line)"
   ]
  },
  {
   "cell_type": "markdown",
   "id": "5e95011d-fd90-46e0-a6c2-d33011947461",
   "metadata": {},
   "source": [
    "# What we have learned"
   ]
  },
  {
   "cell_type": "code",
   "execution_count": 3,
   "id": "82c6036f-e11b-4e5c-8fbf-483478478c4f",
   "metadata": {},
   "outputs": [
    {
     "name": "stdout",
     "output_type": "stream",
     "text": [
      "1 * 1 =  1\n",
      "1 * 2 =  2\n",
      "1 * 3 =  3\n",
      "1 * 4 =  4\n",
      "1 * 5 =  5\n",
      "1 * 6 =  6\n",
      "1 * 7 =  7\n",
      "1 * 8 =  8\n",
      "1 * 9 =  9\n",
      "-----\n",
      "2 * 1 =  2\n",
      "2 * 2 =  4\n",
      "2 * 3 =  6\n",
      "2 * 4 =  8\n",
      "2 * 5 = 10\n",
      "2 * 6 = 12\n",
      "2 * 7 = 14\n",
      "2 * 8 = 16\n",
      "2 * 9 = 18\n",
      "-----\n",
      "3 * 1 =  3\n",
      "3 * 2 =  6\n",
      "3 * 3 =  9\n",
      "3 * 4 = 12\n",
      "3 * 5 = 15\n",
      "3 * 6 = 18\n",
      "3 * 7 = 21\n",
      "3 * 8 = 24\n",
      "3 * 9 = 27\n",
      "-----\n",
      "4 * 1 =  4\n",
      "4 * 2 =  8\n",
      "4 * 3 = 12\n",
      "4 * 4 = 16\n",
      "4 * 5 = 20\n",
      "4 * 6 = 24\n",
      "4 * 7 = 28\n",
      "4 * 8 = 32\n",
      "4 * 9 = 36\n",
      "-----\n",
      "5 * 1 =  5\n",
      "5 * 2 = 10\n",
      "5 * 3 = 15\n",
      "5 * 4 = 20\n",
      "5 * 5 = 25\n",
      "5 * 6 = 30\n",
      "5 * 7 = 35\n",
      "5 * 8 = 40\n",
      "5 * 9 = 45\n",
      "-----\n",
      "6 * 1 =  6\n",
      "6 * 2 = 12\n",
      "6 * 3 = 18\n",
      "6 * 4 = 24\n",
      "6 * 5 = 30\n",
      "6 * 6 = 36\n",
      "6 * 7 = 42\n",
      "6 * 8 = 48\n",
      "6 * 9 = 54\n",
      "-----\n",
      "7 * 1 =  7\n",
      "7 * 2 = 14\n",
      "7 * 3 = 21\n",
      "7 * 4 = 28\n",
      "7 * 5 = 35\n",
      "7 * 6 = 42\n",
      "7 * 7 = 49\n",
      "7 * 8 = 56\n",
      "7 * 9 = 63\n",
      "-----\n",
      "8 * 1 =  8\n",
      "8 * 2 = 16\n",
      "8 * 3 = 24\n",
      "8 * 4 = 32\n",
      "8 * 5 = 40\n",
      "8 * 6 = 48\n",
      "8 * 7 = 56\n",
      "8 * 8 = 64\n",
      "8 * 9 = 72\n",
      "-----\n",
      "9 * 1 =  9\n",
      "9 * 2 = 18\n",
      "9 * 3 = 27\n",
      "9 * 4 = 36\n",
      "9 * 5 = 45\n",
      "9 * 6 = 54\n",
      "9 * 7 = 63\n",
      "9 * 8 = 72\n",
      "9 * 9 = 81\n",
      "-----\n"
     ]
    }
   ],
   "source": [
    "# string format method.   str.format()\n",
    "\n",
    "for i in range(1, 10):\n",
    "    for j in range(1, 10):\n",
    "        print('{:d} * {:d} = {:2d}'.format(i, j, i*j))  \n",
    "        # print(f'{i:d} * {j:d} = {i*j:2d}')\n",
    "        # print('%d * %d == %2d' % (i, j, i * j))   # 1\n",
    "    print('-----')"
   ]
  },
  {
   "cell_type": "markdown",
   "id": "ac9cc0f7-3904-4f82-9194-ad0ca0c35dd2",
   "metadata": {},
   "source": [
    "# Just do it"
   ]
  },
  {
   "cell_type": "code",
   "execution_count": null,
   "id": "4f9d1d38-51d5-487e-b5c3-c5392745a160",
   "metadata": {},
   "outputs": [],
   "source": []
  }
 ],
 "metadata": {
  "kernelspec": {
   "display_name": "Python 3 (ipykernel)",
   "language": "python",
   "name": "python3"
  },
  "language_info": {
   "codemirror_mode": {
    "name": "ipython",
    "version": 3
   },
   "file_extension": ".py",
   "mimetype": "text/x-python",
   "name": "python",
   "nbconvert_exporter": "python",
   "pygments_lexer": "ipython3",
   "version": "3.8.12"
  }
 },
 "nbformat": 4,
 "nbformat_minor": 5
}
